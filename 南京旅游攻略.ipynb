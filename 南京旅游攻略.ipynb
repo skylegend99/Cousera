{
 "cells": [
  {
   "cell_type": "code",
   "execution_count": 19,
   "metadata": {},
   "outputs": [],
   "source": [
    "# Weather:\n",
    "from urllib import request\n",
    "import re\n",
    "url = 'http://www.weather.com.cn/weather/101190101.shtml'\n",
    "req = request.Request(url)\n",
    "weekly_weather = request.urlopen(req).read().decode('utf-8')\n",
    "seven_days = re.findall(r'\\<h1\\>([1-9].*)\\</h1>\\n.*\\n.*\\n.*\\>(.*)\\</p>\\n.*\\n\\<span\\>([0-9]*).*\\>([0-9].*)\\</i\\>\\n', weekly_weather)\n",
    "# Create a dictionary contain name of each day(day0 to day5)\n",
    "diction = {} \n",
    "for i in range(6):\n",
    "    diction[i] = str(21+i)+'日'\n",
    "    \n",
    "Results = {}\n",
    "for day_num in range(6):\n",
    "    try:\n",
    "        index_day= [seven_days.index(day) for day in seven_days for item in day if diction[day_num] in item]\n",
    "        Results[day_num] = str(seven_days[index_day[0]])\n",
    "    except:\n",
    "        Results[day_num] = 'already passed or it is beyond 7 days from today'"
   ]
  },
  {
   "cell_type": "markdown",
   "metadata": {},
   "source": [
    "# 注意事项：\n",
    "                    天气（带伞）\n",
    "                    景点是否允许带饮料食品\n",
    "                    门票预约\n",
    "                    "
   ]
  },
  {
   "cell_type": "markdown",
   "metadata": {},
   "source": [
    "# 2020/09/21-09/26南京旅游攻略\n",
    "        景点: line friends\n",
    "              夫子庙秦淮河\n",
    "              老门东\"（豆腐王朝\n",
    "              1912酒吧街道\n",
    "              明瓦廊\n",
    "              爱情隧道\n",
    "              南京博物馆\n",
    "              hamleys\n",
    "              南京万达乐园\n",
    "              狮子桥美食步行街\n",
    "              南京長江大橋\n",
    "        美食：老爷锅（很多地方有）\n",
    "              南京大排档（狮子桥店）：烤鸭包，美龄粥，泡椒鸡，桂花拉糕，糖芋苗，臭豆腐，老鸭粉丝汤"
   ]
  },
  {
   "cell_type": "markdown",
   "metadata": {},
   "source": [
    "##         (21号)Day0: "
   ]
  },
  {
   "cell_type": "code",
   "execution_count": 30,
   "metadata": {},
   "outputs": [
    {
     "name": "stdout",
     "output_type": "stream",
     "text": [
      "Weather:('21日（周一）', '阵雨', '25', '18℃')\n"
     ]
    }
   ],
   "source": [
    "print('Weather:'+str(Results[0]))"
   ]
  },
  {
   "cell_type": "raw",
   "metadata": {},
   "source": [
    "### "
   ]
  },
  {
   "cell_type": "markdown",
   "metadata": {},
   "source": [
    "##         (22号)Day1:"
   ]
  },
  {
   "cell_type": "markdown",
   "metadata": {},
   "source": [
    "#### Weather:"
   ]
  },
  {
   "cell_type": "code",
   "execution_count": 21,
   "metadata": {},
   "outputs": [
    {
     "name": "stdout",
     "output_type": "stream",
     "text": [
      "('22日（周二）', '阵雨', '19', '15℃')\n"
     ]
    }
   ],
   "source": [
    "print('Weather:'+str(Results[1]))"
   ]
  },
  {
   "cell_type": "markdown",
   "metadata": {},
   "source": [
    "#### 总统府——1912广场"
   ]
  },
  {
   "cell_type": "markdown",
   "metadata": {},
   "source": [
    "###         (23号)Day2:"
   ]
  },
  {
   "cell_type": "markdown",
   "metadata": {},
   "source": [
    "#### Weather:"
   ]
  },
  {
   "cell_type": "code",
   "execution_count": 26,
   "metadata": {},
   "outputs": [
    {
     "name": "stdout",
     "output_type": "stream",
     "text": [
      "Weather:('23日（周三）', '阵雨', '21', '18℃')\n"
     ]
    }
   ],
   "source": [
    "print('Weather:'+str(Results[2]))"
   ]
  },
  {
   "cell_type": "markdown",
   "metadata": {},
   "source": [
    "#### 南京博物院（微信小程序预约）——"
   ]
  },
  {
   "cell_type": "markdown",
   "metadata": {},
   "source": [
    "###         (24号)Day3:"
   ]
  },
  {
   "cell_type": "markdown",
   "metadata": {},
   "source": [
    "### 老门东——夫子庙——秦淮河"
   ]
  },
  {
   "cell_type": "code",
   "execution_count": 27,
   "metadata": {},
   "outputs": [
    {
     "name": "stdout",
     "output_type": "stream",
     "text": [
      "Weather:('24日（周四）', '多云', '24', '17℃')\n"
     ]
    }
   ],
   "source": [
    "print('Weather:'+str(Results[3]))"
   ]
  },
  {
   "cell_type": "code",
   "execution_count": null,
   "metadata": {},
   "outputs": [],
   "source": []
  },
  {
   "cell_type": "markdown",
   "metadata": {},
   "source": [
    "###         (25号)Day4:"
   ]
  },
  {
   "cell_type": "markdown",
   "metadata": {},
   "source": [
    "#### Weather:"
   ]
  },
  {
   "cell_type": "code",
   "execution_count": 28,
   "metadata": {},
   "outputs": [
    {
     "name": "stdout",
     "output_type": "stream",
     "text": [
      "Weather:already passed or it is beyond 7 days from today\n"
     ]
    }
   ],
   "source": [
    "print('Weather:'+str(Results[4]))"
   ]
  },
  {
   "cell_type": "code",
   "execution_count": null,
   "metadata": {},
   "outputs": [],
   "source": []
  },
  {
   "cell_type": "markdown",
   "metadata": {},
   "source": [
    "### （26号)Day5:"
   ]
  },
  {
   "cell_type": "markdown",
   "metadata": {},
   "source": [
    "#### Weather:"
   ]
  },
  {
   "cell_type": "code",
   "execution_count": 29,
   "metadata": {},
   "outputs": [
    {
     "name": "stdout",
     "output_type": "stream",
     "text": [
      "Weather:already passed or it is beyond 7 days from today\n"
     ]
    }
   ],
   "source": [
    "print('Weather:'+str(Results[5]))"
   ]
  },
  {
   "cell_type": "code",
   "execution_count": null,
   "metadata": {},
   "outputs": [],
   "source": []
  },
  {
   "cell_type": "code",
   "execution_count": null,
   "metadata": {},
   "outputs": [],
   "source": []
  },
  {
   "cell_type": "code",
   "execution_count": null,
   "metadata": {},
   "outputs": [],
   "source": []
  },
  {
   "cell_type": "code",
   "execution_count": null,
   "metadata": {},
   "outputs": [],
   "source": []
  },
  {
   "cell_type": "code",
   "execution_count": null,
   "metadata": {},
   "outputs": [],
   "source": []
  }
 ],
 "metadata": {
  "kernelspec": {
   "display_name": "Python 3",
   "language": "python",
   "name": "python3"
  },
  "language_info": {
   "codemirror_mode": {
    "name": "ipython",
    "version": 3
   },
   "file_extension": ".py",
   "mimetype": "text/x-python",
   "name": "python",
   "nbconvert_exporter": "python",
   "pygments_lexer": "ipython3",
   "version": "3.8.3"
  }
 },
 "nbformat": 4,
 "nbformat_minor": 4
}
